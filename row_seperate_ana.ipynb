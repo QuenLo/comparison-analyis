{
 "cells": [
  {
   "cell_type": "code",
   "execution_count": null,
   "metadata": {},
   "outputs": [],
   "source": [
    "import numpy as np\n",
    "import pandas as pd\n",
    "import os\n",
    "\n",
    "from sklearn.feature_selection import f_regression\n",
    "from sklearn import metrics as sk_metrics\n",
    "from sklearn.metrics import r2_score\n",
    "from sklearn.metrics import mean_squared_error\n",
    "from sklearn.metrics import mean_absolute_error\n",
    "\n",
    "import plotly.express as px\n",
    "import plotly.graph_objects as go\n",
    "\n",
    "# ignore warnings\n",
    "import warnings\n",
    "warnings.filterwarnings('ignore')"
   ]
  },
  {
   "cell_type": "code",
   "execution_count": null,
   "metadata": {},
   "outputs": [],
   "source": [
    "### drow row data ###\n",
    "#####################\n",
    "SITE = \"banqiao_new\"\n",
    "# \"banqiao_new\", \"taoyuan_new\", \"zhongming_new\", \"wanhua_new\", \"tainan_new\", \"qianjin_new\"\n",
    "\n",
    "DF_row_data = pd.read_csv( \"clean_data/seperate/\" + site + \".csv\" )\n",
    "fig = go.Figure()\n",
    "for device_id in DF_row_data['device_id'].unique():\n",
    "    mask_id = DF_row_data[ \"device_id\" ] == device_id\n",
    "    fig.add_trace(go.Scatter(x=DF_row_data[mask_id].time_hourly, y=DF_row_data[mask_id][\"PM2.5\"],\n",
    "                        mode='lines',\n",
    "                        marker=dict( size=2 ),\n",
    "                        line=dict( width=0.6, dash='dot' ),\n",
    "                        name=device_id, opacity=0.8))\n",
    "\n",
    "fig.add_trace(go.Scatter(x=DF_row_data.time_hourly, y=DF_row_data[\"EPA_PM2.5\"],\n",
    "                    mode='lines',\n",
    "                    line=dict( width=1.2 ),\n",
    "                    name='EPA_'+ SITE))\n",
    "fig.show()"
   ]
  },
  {
   "cell_type": "code",
   "execution_count": null,
   "metadata": {},
   "outputs": [],
   "source": [
    "def build( DF_row_data ):\n",
    "    GB = DF_data.rename( columns={\"PM2.5\":\"AirBox_PM2.5\"} )\n",
    "    \n",
    "    return GB"
   ]
  },
  {
   "cell_type": "code",
   "execution_count": null,
   "metadata": {},
   "outputs": [],
   "source": [
    "JSON_ANA = {}\n",
    "NEW_SITES = [ \"banqiao_new\", \"taoyuan_new\", \"zhongming_new\", \"wanhua_new\", \"tainan_new\", \"qianjin_new\" ]\n",
    "for site in NEW_SITES:\n",
    "    DF_data = pd.read_csv( \"clean_data/seperate/\" + site + \".csv\" )\n",
    "    DF_data = build( DF_data )\n",
    "    JSON_ANA[ site ] = {}\n",
    "    JSON_ANA[ site ][ \"covariance\" ] = DF_data[[\"EPA_PM2.5\", \"AirBox_PM2.5\"]].cov()['EPA_PM2.5']['AirBox_PM2.5']\n",
    "    JSON_ANA[ site ][ \"correlation\" ] = DF_data[[\"EPA_PM2.5\", \"AirBox_PM2.5\"]].corr()['EPA_PM2.5']['AirBox_PM2.5']\n",
    "    JSON_ANA[ site ][ \"error_rate\" ] = (abs(DF_data[\"AirBox_PM2.5\"] - DF_data[\"EPA_PM2.5\"]) / DF_data[\"EPA_PM2.5\"] * 100).mean()\n",
    "    #JSON_ANA[ site ][ \"R2\" ] = r2_score( DF_data[\"EPA_PM2.5\"], DF_data[\"PM2.5\"] )\n",
    "    JSON_ANA[ site ][ \"MSE\" ] = mean_squared_error( DF_data[\"EPA_PM2.5\"], DF_data[\"AirBox_PM2.5\"] )\n",
    "    JSON_ANA[ site ][ \"RMSE\" ] = np.sqrt( JSON_ANA[ site ][ \"MSE\" ] )\n",
    "    JSON_ANA[ site ][ \"MAE\" ] = mean_absolute_error( DF_data[\"EPA_PM2.5\"], DF_data[\"AirBox_PM2.5\"] )\n",
    "    JSON_ANA[ site ][ \"R2\" ] = np.corrcoef( x = DF_data[[\"EPA_PM2.5\",\"AirBox_PM2.5\"]].T )[0][1] **2\n",
    "    AirBox_Value( DF_data, site, \"AirBox_PM2.5\", 10 )\n",
    "    AirBox_Value( DF_data, site, \"EPA_PM2.5\", 6 )\n",
    "    AirBox_Value( DF_data, site, \"Temperature\", 3 )\n",
    "    AirBox_Value( DF_data, site, \"Humidity\", 3 )\n",
    "    AirBox_Value( DF_data, site, \"HR\", 1 )"
   ]
  },
  {
   "cell_type": "code",
   "execution_count": null,
   "metadata": {},
   "outputs": [],
   "source": [
    "#DF_ANA = pd.DataFrame(JSON_ANA)\n",
    "#DF_ANA.to_csv( \"score_ana2/score_all.csv\" )\n",
    "DF_ANA = pd.read_csv( \"score_ana2/score_all.csv\", index_col=0 )\n",
    "DF_ANA"
   ]
  },
  {
   "cell_type": "code",
   "execution_count": null,
   "metadata": {},
   "outputs": [],
   "source": [
    "def AirBox_Value( DF_data, site, feature, p ):\n",
    "    value = int(DF_data[feature].min())\n",
    "    JSON_G = {}\n",
    "    while value <= DF_data[feature].max() + p:\n",
    "        value_mask = (value <= DF_data[feature]) & (DF_data[feature] < value + p)\n",
    "        G = DF_data[ value_mask ]\n",
    "\n",
    "        if(G.shape[0] > 1):\n",
    "            JSON_G[ value ] = {}\n",
    "            JSON_G[ value ][ \"covariance\" ] = G[[\"EPA_PM2.5\", \"AirBox_PM2.5\"]].cov()['EPA_PM2.5']['AirBox_PM2.5']\n",
    "            JSON_G[ value ][ \"correlation\" ] = G[[\"EPA_PM2.5\", \"AirBox_PM2.5\"]].corr()['EPA_PM2.5']['AirBox_PM2.5']\n",
    "            JSON_G[ value ][ \"error_rate\" ] = (abs(G[\"AirBox_PM2.5\"] - G[\"EPA_PM2.5\"]) / G[\"EPA_PM2.5\"] * 100).mean()\n",
    "            JSON_G[ value ][ \"R2\" ] = np.corrcoef( x = G[[\"EPA_PM2.5\",\"AirBox_PM2.5\"]].T )[0][1] **2\n",
    "            JSON_G[ value ][ \"MSE\" ] = mean_squared_error( G[\"EPA_PM2.5\"], G[\"AirBox_PM2.5\"] )\n",
    "            JSON_G[ value ][ \"RMSE\" ] = np.sqrt( JSON_G[ value ][ \"MSE\" ] )\n",
    "            JSON_G[ value ][ \"MAE\" ] = mean_absolute_error( G[\"EPA_PM2.5\"], G[\"AirBox_PM2.5\"] )\n",
    "        value += p\n",
    "    \n",
    "    # ouptut\n",
    "    DF_AirBox_PM25 = pd.DataFrame(JSON_G)\n",
    "    filepath = \"score_ana2/\" + site + \"/\"\n",
    "    filename = feature + \".csv\"\n",
    "    isExists=os.path.exists(filepath)\n",
    "    if not isExists:\n",
    "        os.makedirs(filepath)\n",
    "    DF_AirBox_PM25.to_csv( filepath + filename )"
   ]
  },
  {
   "cell_type": "code",
   "execution_count": null,
   "metadata": {},
   "outputs": [],
   "source": [
    "fig2 = go.Figure()\n",
    "Feature = \"PM2.5\"\n",
    "# \"PM2.5\", \"Temperature\", \"EPA_PM2.5\", \"HR\", \"Humidity\"\n",
    "Score = \"R2\"\n",
    "# \"correlation\", \"error_rate\", \"R2\", \"MSE\", \"RMSE\", \"MAE\", \"covariance\"\n",
    "for site in NEW_SITES:\n",
    "    DF_score = pd.read_csv( \"score_ana2/\"+ site +\"/\"+ Feature +\".csv\",index_col=0 )\n",
    "    fig2.add_trace(go.Scatter(y=DF_score.loc[Score], x=DF_score.loc[Score].index,\n",
    "                        mode='markers',\n",
    "                        name=site))\n",
    "fig2.show()"
   ]
  },
  {
   "cell_type": "code",
   "execution_count": null,
   "metadata": {},
   "outputs": [],
   "source": [
    "SITE = \"banqiao_new\"\n",
    "# \"banqiao_new\", \"taoyuan_new\", \"zhongming_new\", \"wanhua_new\", \"tainan_new\", \"qianjin_new\"\n",
    "Feature = \"PM2.5\"\n",
    "# \"PM2.5\", \"Temperature\", \"EPA_PM2.5\", \"HR\", \"Humidity\"\n",
    "\n",
    "DF_score = pd.read_csv( \"score_ana2/\"+ SITE +\"/\"+ Feature +\".csv\",index_col=0 )\n",
    "DF_score"
   ]
  },
  {
   "cell_type": "markdown",
   "metadata": {},
   "source": [
    "## Seperate"
   ]
  },
  {
   "cell_type": "code",
   "execution_count": null,
   "metadata": {},
   "outputs": [],
   "source": [
    "JSON_ANA = {}\n",
    "NEW_SITES = [ \"banqiao_new\", \"taoyuan_new\", \"zhongming_new\", \"wanhua_new\", \"tainan_new\", \"qianjin_new\" ]\n",
    "for site in NEW_SITES:\n",
    "    DF_data = pd.read_csv( \"clean_data/seperate/\" + site + \".csv\" )\n",
    "    i = 1\n",
    "    for device_id in DF_data['device_id'].unique():\n",
    "        mask_id = DF_data[ \"device_id\" ] == device_id\n",
    "        device_data = DF_data[ mask_id ]\n",
    "        AirBox_Value2( device_data, site, \"PM2.5\", 10, i )\n",
    "        AirBox_Value2( device_data, site, \"EPA_PM2.5\", 6, i )\n",
    "        AirBox_Value2( device_data, site, \"Temperature\", 3, i )\n",
    "        AirBox_Value2( device_data, site, \"Humidity\", 3, i )\n",
    "        AirBox_Value2( device_data, site, \"HR\", 1, i )\n",
    "        i += 1"
   ]
  },
  {
   "cell_type": "code",
   "execution_count": null,
   "metadata": {},
   "outputs": [],
   "source": [
    "def AirBox_Value2( DF_data, site, feature, p, i ):\n",
    "    value = int(DF_data[feature].min())\n",
    "    JSON_G = {}\n",
    "    while value <= DF_data[feature].max() + p:\n",
    "        value_mask = (value <= DF_data[feature]) & (DF_data[feature] < value + p)\n",
    "        G = DF_data[ value_mask ]\n",
    "\n",
    "        if(G.shape[0] > 1):\n",
    "            JSON_G[ value ] = {}\n",
    "            JSON_G[ value ][ \"covariance\" ] = G[[\"EPA_PM2.5\", \"PM2.5\"]].cov()['EPA_PM2.5']['PM2.5']\n",
    "            JSON_G[ value ][ \"correlation\" ] = G[[\"EPA_PM2.5\", \"PM2.5\"]].corr()['EPA_PM2.5']['PM2.5']\n",
    "            JSON_G[ value ][ \"error_rate\" ] = (abs(G[\"PM2.5\"] - G[\"EPA_PM2.5\"]) / G[\"EPA_PM2.5\"] * 100).mean()\n",
    "            JSON_G[ value ][ \"R2\" ] = np.corrcoef( x = G[[\"EPA_PM2.5\",\"PM2.5\"]].T )[0][1] **2\n",
    "            JSON_G[ value ][ \"MSE\" ] = mean_squared_error( G[\"EPA_PM2.5\"], G[\"PM2.5\"] )\n",
    "            JSON_G[ value ][ \"RMSE\" ] = np.sqrt( JSON_G[ value ][ \"MSE\" ] )\n",
    "            JSON_G[ value ][ \"MAE\" ] = mean_absolute_error( G[\"EPA_PM2.5\"], G[\"PM2.5\"] )\n",
    "        value += p\n",
    "    \n",
    "    # ouptut\n",
    "    DF_AirBox_PM25 = pd.DataFrame(JSON_G)\n",
    "    filepath = \"score_ana2/\" + site + \"/seperate/\"\n",
    "    filename = feature + \"-\" + str(i) + \".csv\"\n",
    "    isExists=os.path.exists(filepath)\n",
    "    if not isExists:\n",
    "        os.makedirs(filepath)\n",
    "    DF_AirBox_PM25.to_csv( filepath + filename )"
   ]
  },
  {
   "cell_type": "code",
   "execution_count": null,
   "metadata": {},
   "outputs": [],
   "source": [
    "fig3 = go.Figure()\n",
    "Feature = \"Humidity\"\n",
    "# \"PM2.5\", \"Temperature\", \"EPA_PM2.5\", \"HR\", \"Humidity\"\n",
    "Score = \"correlation\"\n",
    "# \"correlation\", \"error_rate\", \"R2\", \"MSE\", \"RMSE\", \"MAE\", \"covariance\"\n",
    "for site in NEW_SITES:\n",
    "    for i in [1,2]:\n",
    "        DF_score = pd.read_csv( \"score_ana2/\"+ site +\"/seperate/\"+ Feature + \"-\" + str(i) + \".csv\",index_col=0 )\n",
    "        fig3.add_trace(go.Scatter(y=DF_score.loc[Score], x=DF_score.loc[Score].index,\n",
    "                            mode='markers',\n",
    "                            name=site+str(i)))\n",
    "fig3.show()"
   ]
  },
  {
   "cell_type": "code",
   "execution_count": null,
   "metadata": {},
   "outputs": [],
   "source": []
  }
 ],
 "metadata": {
  "kernelspec": {
   "display_name": "Python 3",
   "language": "python",
   "name": "python3"
  },
  "language_info": {
   "codemirror_mode": {
    "name": "ipython",
    "version": 3
   },
   "file_extension": ".py",
   "mimetype": "text/x-python",
   "name": "python",
   "nbconvert_exporter": "python",
   "pygments_lexer": "ipython3",
   "version": "3.7.6"
  }
 },
 "nbformat": 4,
 "nbformat_minor": 4
}
